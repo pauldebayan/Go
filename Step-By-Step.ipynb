{
 "cells": [
  {
   "cell_type": "markdown",
   "metadata": {},
   "source": [
    "Installations: Docker, Postgres, DBeaver"
   ]
  },
  {
   "cell_type": "markdown",
   "metadata": {},
   "source": [
    "docker ps  \n",
    "docker images"
   ]
  },
  {
   "cell_type": "markdown",
   "metadata": {},
   "source": [
    "https://hub.docker.com/search?q=postgres  \n",
    "\n",
    "docker pull postgres:\n",
    "\n",
    "docker pull <image>:<tag>\n",
    "\n",
    "To remove a image:  \n",
    "docker image rm <image id> <image id>  "
   ]
  },
  {
   "cell_type": "markdown",
   "metadata": {},
   "source": [
    "Start a Container:  \n",
    "docker run --name <container_name> -e <environment_variable> -d <image>:<tag>  \n",
    "\n",
    "From: https://hub.docker.com/_/postgres\n",
    "\n",
    "$ docker run --name some-postgres -e POSTGRES_PASSWORD=mysecretpassword -d postgres\n"
   ]
  },
  {
   "cell_type": "markdown",
   "metadata": {},
   "source": [
    "We can start multiple containers from 1 single image, For each containers we can set its own environment variables"
   ]
  },
  {
   "cell_type": "markdown",
   "metadata": {},
   "source": [
    "Port Mapping:  \n",
    "```\n",
    "docker run --name <container_name> -e<environment_variable> -p<host_ports:container_ports> -d <image>:<tag>\n",
    "```"
   ]
  },
  {
   "cell_type": "markdown",
   "metadata": {},
   "source": [
    "```\n",
    "docker run --name postgres12 -p 5432:5432 -e POSTGRES_USER=debayan -e POSTGRES_PASSWORD=12345 -d postgres:12-alpine\n",
    "\n",
    "docker ps - to see all running containers"
   ]
  },
  {
   "cell_type": "markdown",
   "metadata": {},
   "source": [
    "```\n",
    "sudo lsof -i :5432  \n",
    "sudo kill -9 <PID>\n"
   ]
  },
  {
   "cell_type": "markdown",
   "metadata": {},
   "source": [
    "Run Command in Container:  \n",
    "```\n",
    "docker exec -it <container_name_or_id> <command> [args]"
   ]
  },
  {
   "cell_type": "markdown",
   "metadata": {},
   "source": [
    "psql -h localhost -p 5432 -U debayan db"
   ]
  },
  {
   "cell_type": "markdown",
   "metadata": {},
   "source": [
    "docker exec -it postgres12 psql -U debayan\n",
    "\n",
    "Check: https://github.com/pauldebayan/Postgres/blob/main/Step-By-Step.ipynb\n",
    "\n"
   ]
  },
  {
   "cell_type": "markdown",
   "metadata": {},
   "source": [
    "CREATE DATABASE db;  \n",
    "CREATE USER debayan WITH PASSWORD '12345';  \n",
    "exit  "
   ]
  },
  {
   "cell_type": "markdown",
   "metadata": {},
   "source": [
    "docker exec -it postgres12 psql -h localhost -p 5432 -U debayan db"
   ]
  },
  {
   "cell_type": "markdown",
   "metadata": {},
   "source": [
    "View Container Logs:\n",
    "\n",
    "```\n",
    "docker logs <container_name_or_id>"
   ]
  },
  {
   "cell_type": "markdown",
   "metadata": {},
   "source": [
    "We can check wht happened inside the App's container\n",
    "\n",
    "docker logs postgres12"
   ]
  },
  {
   "cell_type": "markdown",
   "metadata": {},
   "source": [
    "https://dbeaver.io/download/"
   ]
  },
  {
   "cell_type": "markdown",
   "metadata": {},
   "source": [
    "CRUD - Create, Read, Update, Delete"
   ]
  },
  {
   "cell_type": "markdown",
   "metadata": {},
   "source": [
    "GO - Starting"
   ]
  },
  {
   "cell_type": "markdown",
   "metadata": {},
   "source": [
    "https://go.dev/play/\n",
    "\n",
    "\n",
    "Google: Go Lang Standard Libraryhttps://go.dev/play/\n",
    "\n",
    "\n",
    "Google: Go Lang Standard Library"
   ]
  },
  {
   "cell_type": "markdown",
   "metadata": {},
   "source": [
    "Download Go - https://go.dev/dl/"
   ]
  },
  {
   "cell_type": "markdown",
   "metadata": {},
   "source": [
    "$ go version "
   ]
  },
  {
   "cell_type": "markdown",
   "metadata": {},
   "source": [
    "Go Extension for Visual Studio Code"
   ]
  },
  {
   "cell_type": "markdown",
   "metadata": {},
   "source": [
    "$ go env"
   ]
  },
  {
   "cell_type": "markdown",
   "metadata": {},
   "source": [
    "```\n",
    "$ echo   >  main.go  \n",
    "$ go run main.go"
   ]
  },
  {
   "cell_type": "markdown",
   "metadata": {},
   "source": [
    "go run -x main.go  \n",
    "\n",
    "go run does not produce an executable  \n",
    "\n",
    "go build  "
   ]
  },
  {
   "cell_type": "markdown",
   "metadata": {},
   "source": [
    "go build will compile the files in the current directory and will produce an executable file with the name of the current working directory"
   ]
  },
  {
   "cell_type": "markdown",
   "metadata": {},
   "source": [
    "go build -o app  \n",
    "go build file.go  "
   ]
  },
  {
   "cell_type": "markdown",
   "metadata": {},
   "source": [
    "Formatting Go Source Code(gofmt)  \n",
    "gofmt -w main.go"
   ]
  },
  {
   "cell_type": "markdown",
   "metadata": {},
   "source": []
  }
 ],
 "metadata": {
  "language_info": {
   "name": "python"
  }
 },
 "nbformat": 4,
 "nbformat_minor": 2
}
